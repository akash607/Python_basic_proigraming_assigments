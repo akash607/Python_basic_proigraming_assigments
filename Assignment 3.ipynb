{
  "nbformat": 4,
  "nbformat_minor": 0,
  "metadata": {
    "colab": {
      "name": "pro Ass 3",
      "provenance": [],
      "collapsed_sections": []
    },
    "kernelspec": {
      "name": "python3",
      "display_name": "Python 3"
    },
    "language_info": {
      "name": "python"
    }
  },
  "cells": [
    {
      "cell_type": "code",
      "metadata": {
        "colab": {
          "base_uri": "https://localhost:8080/"
        },
        "id": "kCnue2a25wD0",
        "outputId": "9d0b0b9a-e74e-4cb1-e6c6-fdb866a76a89"
      },
      "source": [
        "#1.Write a Python Program to Check if a Number is Positive, Negative or Zero?\n",
        "num=float(input(\"please enter your no \"))\n",
        "if num>0:\n",
        "  print(\"this no. is positive\")\n",
        "elif num==0:\n",
        "  print(\"this no. is zero\")\n",
        "else:\n",
        "  print(\"no. is negative\")"
      ],
      "execution_count": null,
      "outputs": [
        {
          "output_type": "stream",
          "text": [
            "please enter your no 3.14\n",
            "this no. is positive\n"
          ],
          "name": "stdout"
        }
      ]
    },
    {
      "cell_type": "code",
      "metadata": {
        "colab": {
          "base_uri": "https://localhost:8080/"
        },
        "id": "KAHaKEtQ7CNY",
        "outputId": "9e6d82f9-57a3-44e6-f533-fff7c2e79031"
      },
      "source": [
        "#2.Write a Python Program to Check if a Number is Odd or Even?\n",
        "num=int(input(\"Please enter number \"))\n",
        "if (num%2)==0:\n",
        "  print(\"{0} is even\".format(num))\n",
        "else:\n",
        "  print(\"{0} is odd\".format(num))"
      ],
      "execution_count": null,
      "outputs": [
        {
          "output_type": "stream",
          "text": [
            "Please enter number 12\n",
            "12 is even\n"
          ],
          "name": "stdout"
        }
      ]
    },
    {
      "cell_type": "code",
      "metadata": {
        "id": "NVaWA0LT8ZIZ",
        "colab": {
          "base_uri": "https://localhost:8080/"
        },
        "outputId": "d3c73e8e-6b9b-4798-c681-523bb3b13929"
      },
      "source": [
        "#3.Write a Python Program to Check Leap Year?\n",
        "year=int(input(\"Enter year \"))\n",
        "if (year % 4) == 0:\n",
        "   if (year % 100) == 0:\n",
        "       if (year % 400) == 0:\n",
        "           print(\"{0} is a leap year\".format(year))\n",
        "       else:\n",
        "           print(\"{0} is not a leap year\".format(year))\n",
        "   else:\n",
        "       print(\"{0} is a leap year\".format(year))\n",
        "else:\n",
        "   print(\"{0} is not a leap year\".format(year))\n",
        "    "
      ],
      "execution_count": null,
      "outputs": [
        {
          "output_type": "stream",
          "text": [
            "Enter year 2020\n",
            "2020 is a leap year\n"
          ],
          "name": "stdout"
        }
      ]
    },
    {
      "cell_type": "code",
      "metadata": {
        "colab": {
          "base_uri": "https://localhost:8080/"
        },
        "id": "7OR76QwD-qyB",
        "outputId": "2fb0cb4b-16da-46d0-ee21-0fb05e72d0c6"
      },
      "source": [
        "#4.Write a Python Program to Check Prime Number?\n",
        "num=int(input(\"Enter no. \"))\n",
        "flag=False\n",
        "if num>1:\n",
        "  for i in range(2,num):\n",
        "    if (num%i)==0:\n",
        "     flag=True\n",
        "    break\n",
        "  if flag:\n",
        "    print(\"{0} is not a prime number\".format(num))\n",
        "  else :\n",
        "    print(\"{0} is  a prime number\".format(num))"
      ],
      "execution_count": null,
      "outputs": [
        {
          "output_type": "stream",
          "text": [
            "Enter no. 4\n",
            "4 is not a prime number\n"
          ],
          "name": "stdout"
        }
      ]
    },
    {
      "cell_type": "code",
      "metadata": {
        "id": "LvgM4riNHKu-"
      },
      "source": [
        "print(\"Prime numbers between\", 1 , \"and\",10000 , \"are:\")\n",
        "\n",
        "for num in range(1,10000+1):\n",
        "   if num > 1:\n",
        "       for i in range(2, num):\n",
        "           if (num % i) == 0:\n",
        "               break\n",
        "       else:\n",
        "           print(num)"
      ],
      "execution_count": null,
      "outputs": []
    },
    {
      "cell_type": "code",
      "metadata": {
        "id": "Wk7cTXOlJ-RE"
      },
      "source": [
        ""
      ],
      "execution_count": null,
      "outputs": []
    }
  ]
}