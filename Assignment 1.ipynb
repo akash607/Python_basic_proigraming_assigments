{
  "nbformat": 4,
  "nbformat_minor": 0,
  "metadata": {
    "colab": {
      "name": "basic python programing ass",
      "provenance": [],
      "collapsed_sections": []
    },
    "kernelspec": {
      "name": "python3",
      "display_name": "Python 3"
    },
    "language_info": {
      "name": "python"
    }
  },
  "cells": [
    {
      "cell_type": "code",
      "metadata": {
        "colab": {
          "base_uri": "https://localhost:8080/"
        },
        "id": "hJj99_zY0PCO",
        "outputId": "2daa9cf1-b7ed-46a7-8738-dd5905657072"
      },
      "source": [
        "#1.Write a Python program to print \"Hello Python\"?\n",
        "print(\"Hello python\")"
      ],
      "execution_count": null,
      "outputs": [
        {
          "output_type": "stream",
          "text": [
            "Hello python\n"
          ],
          "name": "stdout"
        }
      ]
    },
    {
      "cell_type": "code",
      "metadata": {
        "colab": {
          "base_uri": "https://localhost:8080/"
        },
        "id": "1hfeM1Qq0e0q",
        "outputId": "fbfcdeca-4905-4028-81f4-63e0492b5173"
      },
      "source": [
        "# Write a Python program to do arithmetical operations addition and division.?\n",
        "\n",
        "a=int(input(\"enter number u want \"))\n",
        "b=int(input(\"enter number u want \"))\n",
        "print(a+b)\n",
        "print(a/b)\n"
      ],
      "execution_count": null,
      "outputs": [
        {
          "output_type": "stream",
          "text": [
            "enter number u want 2\n",
            "enter number u want 2\n",
            "4\n",
            "1.0\n"
          ],
          "name": "stdout"
        }
      ]
    },
    {
      "cell_type": "code",
      "metadata": {
        "colab": {
          "base_uri": "https://localhost:8080/"
        },
        "id": "pqMqRukx10XW",
        "outputId": "744fe10e-4a19-43e8-e282-8906fb680af4"
      },
      "source": [
        "# Write a Python program to find the area of a triangle?\n",
        "height=int(input(\"please enter height of triangle \"))\n",
        "base=int(input(\"please enter base of triangle\"))\n",
        "print((height*base)/2)\n"
      ],
      "execution_count": null,
      "outputs": [
        {
          "output_type": "stream",
          "text": [
            "please enter height of triangle 2\n",
            "please enter base of triangle2\n",
            "2.0\n"
          ],
          "name": "stdout"
        }
      ]
    },
    {
      "cell_type": "code",
      "metadata": {
        "colab": {
          "base_uri": "https://localhost:8080/"
        },
        "id": "a9jKYYPJ3C_l",
        "outputId": "480e0b25-9215-4c8a-b506-6796f1a047fe"
      },
      "source": [
        "# Write a Python program to swap two variables?\n",
        "\n",
        "x = input('Enter value of x: ')\n",
        "y = input('Enter value of y: ')\n",
        "\n",
        "temp = x\n",
        "x = y\n",
        "y = temp\n",
        "\n",
        "print('The value of x after swapping: {}'.format(x))\n",
        "print('The value of y after swapping: {}'.format(y))"
      ],
      "execution_count": null,
      "outputs": [
        {
          "output_type": "stream",
          "text": [
            "Enter value of x: 12\n",
            "Enter value of y: 15\n",
            "The value of x after swapping: 15\n",
            "The value of y after swapping: 12\n"
          ],
          "name": "stdout"
        }
      ]
    },
    {
      "cell_type": "code",
      "metadata": {
        "colab": {
          "base_uri": "https://localhost:8080/"
        },
        "id": "yJTRAfLc3rKD",
        "outputId": "baddadb4-a6d9-41af-9595-e72bc8d8ffe2"
      },
      "source": [
        "# Write a Python program to generate a random number?\n",
        "\n",
        "import random\n",
        "\n",
        "print(random.randint(0,9))"
      ],
      "execution_count": null,
      "outputs": [
        {
          "output_type": "stream",
          "text": [
            "6\n"
          ],
          "name": "stdout"
        }
      ]
    },
    {
      "cell_type": "code",
      "metadata": {
        "id": "4ibb0CIJ4Gnc"
      },
      "source": [
        ""
      ],
      "execution_count": null,
      "outputs": []
    }
  ]
}