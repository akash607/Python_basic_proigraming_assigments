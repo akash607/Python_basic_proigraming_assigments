{
  "nbformat": 4,
  "nbformat_minor": 0,
  "metadata": {
    "colab": {
      "name": "ass 4 basic pro py",
      "provenance": [],
      "collapsed_sections": []
    },
    "kernelspec": {
      "name": "python3",
      "display_name": "Python 3"
    },
    "language_info": {
      "name": "python"
    }
  },
  "cells": [
    {
      "cell_type": "code",
      "metadata": {
        "colab": {
          "base_uri": "https://localhost:8080/"
        },
        "id": "ErPl4qjOOUxB",
        "outputId": "bc6a880c-646a-4588-d36d-6d6be007db36"
      },
      "source": [
        "#1.Write a Python Program to Find the Factorial of a Number?\n",
        "num=int(input(\"enter no \"))\n",
        "factorial=1\n",
        "for i in range(1,num+1):\n",
        "  factorial=factorial*i\n",
        "  print(factorial)"
      ],
      "execution_count": null,
      "outputs": [
        {
          "output_type": "stream",
          "text": [
            "enter no 6\n",
            "1\n",
            "2\n",
            "6\n",
            "24\n",
            "120\n",
            "720\n"
          ],
          "name": "stdout"
        }
      ]
    },
    {
      "cell_type": "code",
      "metadata": {
        "colab": {
          "base_uri": "https://localhost:8080/"
        },
        "id": "0fCUJQsRPNN-",
        "outputId": "f6ed275d-4c47-4465-c072-df3a28a2318c"
      },
      "source": [
        "#2.Write a Python Program to Display the multiplication Table?\n",
        "num=4\n",
        "for i in range(1,11):\n",
        "  print(num, \"x\", i ,\"=\",num*i)\n",
        "   \n"
      ],
      "execution_count": null,
      "outputs": [
        {
          "output_type": "stream",
          "text": [
            "4 x 1 = 4\n",
            "4 x 2 = 8\n",
            "4 x 3 = 12\n",
            "4 x 4 = 16\n",
            "4 x 5 = 20\n",
            "4 x 6 = 24\n",
            "4 x 7 = 28\n",
            "4 x 8 = 32\n",
            "4 x 9 = 36\n",
            "4 x 10 = 40\n"
          ],
          "name": "stdout"
        }
      ]
    },
    {
      "cell_type": "code",
      "metadata": {
        "colab": {
          "base_uri": "https://localhost:8080/"
        },
        "id": "xzmen-j_SGNP",
        "outputId": "2fb6ae31-b5f4-465d-d62a-7982e9b5ffc0"
      },
      "source": [
        "#3.Write a Python Program to Print the Fibonacci sequence?\n",
        "nterms = int(input(\"How many terms? \"))\n",
        "\n",
        "n1, n2 = 0, 1\n",
        "count = 0\n",
        "\n",
        "if nterms <= 0:\n",
        "   print(\"Please enter a positive integer\")\n",
        "elif nterms == 1:\n",
        "   print(\"Fibonacci sequence upto\",nterms,\":\")\n",
        "   print(n1)\n",
        "else:\n",
        "   print(\"Fibonacci sequence:\")\n",
        "   while count < nterms:\n",
        "       print(n1)\n",
        "       nth = n1 + n2\n",
        "       n1 = n2\n",
        "       n2 = nth\n",
        "       count += 1"
      ],
      "execution_count": null,
      "outputs": [
        {
          "output_type": "stream",
          "text": [
            "How many terms? 10\n",
            "Fibonacci sequence:\n",
            "0\n",
            "1\n",
            "1\n",
            "2\n",
            "3\n",
            "5\n",
            "8\n",
            "13\n",
            "21\n",
            "34\n"
          ],
          "name": "stdout"
        }
      ]
    },
    {
      "cell_type": "code",
      "metadata": {
        "id": "NBsHluomVKJe"
      },
      "source": [
        "#4.Write a Python Program to Check Armstrong Number?\n"
      ],
      "execution_count": null,
      "outputs": []
    },
    {
      "cell_type": "code",
      "metadata": {
        "colab": {
          "base_uri": "https://localhost:8080/"
        },
        "id": "Psh43WK-JECM",
        "outputId": "589f56e2-a634-4f5c-a089-df8a06d3a110"
      },
      "source": [
        "num = 1634\n",
        "\n",
        "order = len(str(num))\n",
        "\n",
        "sum = 0\n",
        "\n",
        "\n",
        "temp = num\n",
        "while temp > 0:\n",
        "   digit = temp % 10\n",
        "   sum += digit ** order\n",
        "   temp //= 10\n",
        "\n",
        "if num == sum:\n",
        "   print(num,\"is an Armstrong number\")\n",
        "else:\n",
        "   print(num,\"is not an Armstrong number\")\n"
      ],
      "execution_count": null,
      "outputs": [
        {
          "output_type": "stream",
          "text": [
            "1634 is an Armstrong number\n"
          ],
          "name": "stdout"
        }
      ]
    },
    {
      "cell_type": "code",
      "metadata": {
        "colab": {
          "base_uri": "https://localhost:8080/"
        },
        "id": "kpQgr7AEJFgZ",
        "outputId": "85f16339-7b13-4452-9b71-ccc848a51dd6"
      },
      "source": [
        "#5.Write a Python Program to Find Armstrong Number in an Interval?\n",
        "Start = 1\n",
        "End = 100\n",
        "\n",
        "for num in range(Start, End + 1):\n",
        "\n",
        "   order = len(str(num))\n",
        "    \n",
        "   sum = 0\n",
        "\n",
        "   temp = num\n",
        "   while temp > 0:\n",
        "       digit = temp % 10\n",
        "       sum += digit ** order\n",
        "       temp //= 10\n",
        "\n",
        "   if num == sum:\n",
        "       print(num)\n"
      ],
      "execution_count": null,
      "outputs": [
        {
          "output_type": "stream",
          "text": [
            "1\n",
            "2\n",
            "3\n",
            "4\n",
            "5\n",
            "6\n",
            "7\n",
            "8\n",
            "9\n"
          ],
          "name": "stdout"
        }
      ]
    },
    {
      "cell_type": "code",
      "metadata": {
        "colab": {
          "base_uri": "https://localhost:8080/"
        },
        "id": "H-7FzBxuUxOn",
        "outputId": "ebcd9e46-c7b0-447f-8a90-88c57288c781"
      },
      "source": [
        "#6.Write a Python Program to Find the Sum of Natural Numbers?\n",
        "num=16\n",
        "sum=0\n",
        "if num<0:\n",
        "  print(\"please enter postive number\")\n",
        "else:\n",
        "  for i in range(1,num+1):\n",
        "   sum=sum+i\n",
        "   print(sum)\n",
        "if num==i:\n",
        "  print(\"sum of natural number is\",sum)"
      ],
      "execution_count": null,
      "outputs": [
        {
          "output_type": "stream",
          "text": [
            "1\n",
            "3\n",
            "6\n",
            "10\n",
            "15\n",
            "21\n",
            "28\n",
            "36\n",
            "45\n",
            "55\n",
            "66\n",
            "78\n",
            "91\n",
            "105\n",
            "120\n",
            "136\n",
            "sum of natural number is 136\n"
          ],
          "name": "stdout"
        }
      ]
    },
    {
      "cell_type": "code",
      "metadata": {
        "id": "Uw8kF5iWW-to"
      },
      "source": [
        ""
      ],
      "execution_count": null,
      "outputs": []
    }
  ]
}